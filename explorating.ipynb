{
 "cells": [
  {
   "cell_type": "code",
   "execution_count": 9,
   "id": "3dcff932",
   "metadata": {},
   "outputs": [],
   "source": [
    "import pandas as pd\n",
    "import requests\n",
    "from yahoofinancials import YahooFinancials\n",
    "import numpy as np\n",
    "from datetime import datetime, timedelta\n",
    "import yfinance as yf\n",
    "from sklearn.metrics import mean_absolute_error\n",
    "import time"
   ]
  },
  {
   "cell_type": "code",
   "execution_count": 10,
   "id": "d604a0fc",
   "metadata": {},
   "outputs": [],
   "source": [
    "df_empresas = pd.read_excel('empresas.xlsx')"
   ]
  },
  {
   "cell_type": "code",
   "execution_count": 11,
   "id": "2fcd4355",
   "metadata": {
    "scrolled": true
   },
   "outputs": [
    {
     "data": {
      "text/html": [
       "<div>\n",
       "<style scoped>\n",
       "    .dataframe tbody tr th:only-of-type {\n",
       "        vertical-align: middle;\n",
       "    }\n",
       "\n",
       "    .dataframe tbody tr th {\n",
       "        vertical-align: top;\n",
       "    }\n",
       "\n",
       "    .dataframe thead th {\n",
       "        text-align: right;\n",
       "    }\n",
       "</style>\n",
       "<table border=\"1\" class=\"dataframe\">\n",
       "  <thead>\n",
       "    <tr style=\"text-align: right;\">\n",
       "      <th></th>\n",
       "      <th>Simbolo</th>\n",
       "      <th>Nome_resumido</th>\n",
       "      <th>Nome_Completo</th>\n",
       "      <th>Setor</th>\n",
       "      <th>Resumo_Empresarial</th>\n",
       "      <th>Cidade</th>\n",
       "      <th>UF</th>\n",
       "      <th>website</th>\n",
       "      <th>Negocio</th>\n",
       "      <th>Valor_Empresa</th>\n",
       "      <th>Valor_Mercado</th>\n",
       "      <th>logo_url</th>\n",
       "    </tr>\n",
       "  </thead>\n",
       "  <tbody>\n",
       "    <tr>\n",
       "      <th>0</th>\n",
       "      <td>ABEV3.SA</td>\n",
       "      <td>AMBEV S/A ON</td>\n",
       "      <td>Ambev</td>\n",
       "      <td>Consumer Defensive</td>\n",
       "      <td>Ambev S.A., through its subsidiaries, produces...</td>\n",
       "      <td>São Paulo</td>\n",
       "      <td>SP</td>\n",
       "      <td>https://www.ambev.com.br</td>\n",
       "      <td>BeveragesBrewers</td>\n",
       "      <td>2140000000000</td>\n",
       "      <td>2210000000000</td>\n",
       "      <td>https://logo.clearbit.com/ambev.com.br</td>\n",
       "    </tr>\n",
       "    <tr>\n",
       "      <th>1</th>\n",
       "      <td>AFLT3.SA</td>\n",
       "      <td>AFLUENTE T ON</td>\n",
       "      <td>Afluente Transmissão de Energia Elétrica</td>\n",
       "      <td>Utilities</td>\n",
       "      <td>Afluente Transmissão de Energia Elétrica S.A. ...</td>\n",
       "      <td>Rio de Janeiro</td>\n",
       "      <td>RJ</td>\n",
       "      <td>https://www.afluentet.com.br</td>\n",
       "      <td>UtilitiesRegulated Electric</td>\n",
       "      <td>5779159680</td>\n",
       "      <td>5778585600</td>\n",
       "      <td>https://logo.clearbit.com/afluentet.com.br</td>\n",
       "    </tr>\n",
       "    <tr>\n",
       "      <th>2</th>\n",
       "      <td>AGRO3.SA</td>\n",
       "      <td>BRASILAGRO ON NM</td>\n",
       "      <td>BrasilAgro - Companhia Brasileira de Proprieda...</td>\n",
       "      <td>Consumer Defensive</td>\n",
       "      <td>BrasilAgro - Companhia Brasileira de Proprieda...</td>\n",
       "      <td>São Paulo</td>\n",
       "      <td>SP</td>\n",
       "      <td>https://www.brasil-agro.com</td>\n",
       "      <td>Farm Products</td>\n",
       "      <td>32589214720</td>\n",
       "      <td>30491591680</td>\n",
       "      <td>https://logo.clearbit.com/brasil-agro.com</td>\n",
       "    </tr>\n",
       "    <tr>\n",
       "      <th>3</th>\n",
       "      <td>ALPA4.SA</td>\n",
       "      <td>ALPARGATAS PN N1</td>\n",
       "      <td>Alpargatas</td>\n",
       "      <td>Consumer Cyclical</td>\n",
       "      <td>Alpargatas S.A. engages in the manufacture and...</td>\n",
       "      <td>São Paulo</td>\n",
       "      <td>SP</td>\n",
       "      <td>https://www.alpargatas.com.br</td>\n",
       "      <td>Footwear &amp; Accessories</td>\n",
       "      <td>111000000000</td>\n",
       "      <td>111000000000</td>\n",
       "      <td>https://logo.clearbit.com/alpargatas.com.br</td>\n",
       "    </tr>\n",
       "    <tr>\n",
       "      <th>4</th>\n",
       "      <td>ALUP11.SA</td>\n",
       "      <td>ALUPAR UNT N2</td>\n",
       "      <td>Alupar Investimento</td>\n",
       "      <td>Utilities</td>\n",
       "      <td>Alupar Investimento S.A., through its subsidia...</td>\n",
       "      <td>São Paulo</td>\n",
       "      <td>SP</td>\n",
       "      <td>https://www.alupar.com.br</td>\n",
       "      <td>UtilitiesRenewable</td>\n",
       "      <td>200000000000</td>\n",
       "      <td>162000000000</td>\n",
       "      <td>https://logo.clearbit.com/alupar.com.br</td>\n",
       "    </tr>\n",
       "  </tbody>\n",
       "</table>\n",
       "</div>"
      ],
      "text/plain": [
       "     Simbolo     Nome_resumido  \\\n",
       "0   ABEV3.SA      AMBEV S/A ON   \n",
       "1   AFLT3.SA     AFLUENTE T ON   \n",
       "2   AGRO3.SA  BRASILAGRO ON NM   \n",
       "3   ALPA4.SA  ALPARGATAS PN N1   \n",
       "4  ALUP11.SA     ALUPAR UNT N2   \n",
       "\n",
       "                                       Nome_Completo               Setor  \\\n",
       "0                                              Ambev  Consumer Defensive   \n",
       "1           Afluente Transmissão de Energia Elétrica           Utilities   \n",
       "2  BrasilAgro - Companhia Brasileira de Proprieda...  Consumer Defensive   \n",
       "3                                         Alpargatas   Consumer Cyclical   \n",
       "4                                Alupar Investimento           Utilities   \n",
       "\n",
       "                                  Resumo_Empresarial          Cidade  UF  \\\n",
       "0  Ambev S.A., through its subsidiaries, produces...       São Paulo  SP   \n",
       "1  Afluente Transmissão de Energia Elétrica S.A. ...  Rio de Janeiro  RJ   \n",
       "2  BrasilAgro - Companhia Brasileira de Proprieda...       São Paulo  SP   \n",
       "3  Alpargatas S.A. engages in the manufacture and...       São Paulo  SP   \n",
       "4  Alupar Investimento S.A., through its subsidia...       São Paulo  SP   \n",
       "\n",
       "                         website                       Negocio  Valor_Empresa  \\\n",
       "0       https://www.ambev.com.br             BeveragesBrewers  2140000000000   \n",
       "1   https://www.afluentet.com.br  UtilitiesRegulated Electric     5779159680   \n",
       "2    https://www.brasil-agro.com                 Farm Products    32589214720   \n",
       "3  https://www.alpargatas.com.br        Footwear & Accessories   111000000000   \n",
       "4      https://www.alupar.com.br           UtilitiesRenewable   200000000000   \n",
       "\n",
       "   Valor_Mercado                                     logo_url  \n",
       "0  2210000000000       https://logo.clearbit.com/ambev.com.br  \n",
       "1     5778585600   https://logo.clearbit.com/afluentet.com.br  \n",
       "2    30491591680    https://logo.clearbit.com/brasil-agro.com  \n",
       "3   111000000000  https://logo.clearbit.com/alpargatas.com.br  \n",
       "4   162000000000      https://logo.clearbit.com/alupar.com.br  "
      ]
     },
     "execution_count": 11,
     "metadata": {},
     "output_type": "execute_result"
    }
   ],
   "source": [
    "df_empresas.head()"
   ]
  },
  {
   "cell_type": "code",
   "execution_count": 42,
   "id": "714b0066",
   "metadata": {},
   "outputs": [],
   "source": [
    "selecao = 'Alpargatas'"
   ]
  },
  {
   "cell_type": "code",
   "execution_count": 43,
   "id": "52868c6d",
   "metadata": {},
   "outputs": [
    {
     "data": {
      "text/html": [
       "<div>\n",
       "<style scoped>\n",
       "    .dataframe tbody tr th:only-of-type {\n",
       "        vertical-align: middle;\n",
       "    }\n",
       "\n",
       "    .dataframe tbody tr th {\n",
       "        vertical-align: top;\n",
       "    }\n",
       "\n",
       "    .dataframe thead th {\n",
       "        text-align: right;\n",
       "    }\n",
       "</style>\n",
       "<table border=\"1\" class=\"dataframe\">\n",
       "  <thead>\n",
       "    <tr style=\"text-align: right;\">\n",
       "      <th></th>\n",
       "      <th>Simbolo</th>\n",
       "      <th>Nome_resumido</th>\n",
       "      <th>Nome_Completo</th>\n",
       "      <th>Setor</th>\n",
       "      <th>Resumo_Empresarial</th>\n",
       "      <th>Cidade</th>\n",
       "      <th>UF</th>\n",
       "      <th>website</th>\n",
       "      <th>Negocio</th>\n",
       "      <th>Valor_Empresa</th>\n",
       "      <th>Valor_Mercado</th>\n",
       "      <th>logo_url</th>\n",
       "    </tr>\n",
       "  </thead>\n",
       "  <tbody>\n",
       "    <tr>\n",
       "      <th>3</th>\n",
       "      <td>ALPA4.SA</td>\n",
       "      <td>ALPARGATAS PN N1</td>\n",
       "      <td>Alpargatas</td>\n",
       "      <td>Consumer Cyclical</td>\n",
       "      <td>Alpargatas S.A. engages in the manufacture and...</td>\n",
       "      <td>São Paulo</td>\n",
       "      <td>SP</td>\n",
       "      <td>https://www.alpargatas.com.br</td>\n",
       "      <td>Footwear &amp; Accessories</td>\n",
       "      <td>111000000000</td>\n",
       "      <td>111000000000</td>\n",
       "      <td>https://logo.clearbit.com/alpargatas.com.br</td>\n",
       "    </tr>\n",
       "  </tbody>\n",
       "</table>\n",
       "</div>"
      ],
      "text/plain": [
       "    Simbolo     Nome_resumido Nome_Completo              Setor  \\\n",
       "3  ALPA4.SA  ALPARGATAS PN N1    Alpargatas  Consumer Cyclical   \n",
       "\n",
       "                                  Resumo_Empresarial     Cidade  UF  \\\n",
       "3  Alpargatas S.A. engages in the manufacture and...  São Paulo  SP   \n",
       "\n",
       "                         website                 Negocio  Valor_Empresa  \\\n",
       "3  https://www.alpargatas.com.br  Footwear & Accessories   111000000000   \n",
       "\n",
       "   Valor_Mercado                                     logo_url  \n",
       "3   111000000000  https://logo.clearbit.com/alpargatas.com.br  "
      ]
     },
     "execution_count": 43,
     "metadata": {},
     "output_type": "execute_result"
    }
   ],
   "source": [
    "df_filtro = df_empresas.query(f\"Nome_Completo == '{selecao}'\")\n",
    "df_filtro"
   ]
  },
  {
   "cell_type": "code",
   "execution_count": 44,
   "id": "6db5bfff",
   "metadata": {},
   "outputs": [
    {
     "data": {
      "text/plain": [
       "['ALPA4.SA']"
      ]
     },
     "execution_count": 44,
     "metadata": {},
     "output_type": "execute_result"
    }
   ],
   "source": [
    "simbolo = list(df_filtro['Simbolo'])\n",
    "simbolo"
   ]
  },
  {
   "cell_type": "code",
   "execution_count": 48,
   "id": "3b789f9a",
   "metadata": {},
   "outputs": [],
   "source": [
    "def modelo_consolidado(simbolo):\n",
    "    now = datetime.now()\n",
    "    delta = timedelta(days=45)\n",
    "    result = now - delta\n",
    "    result = pd.to_datetime(result)\n",
    "    new_df = yf.download(simbolo, start='2015-01-01',end=result)['Close']\n",
    "    new_df.dropna(inplace=True)\n",
    "    new_df = new_df.reset_index()\n",
    "    valorz = np.load('arrays.npy')\n",
    "\n",
    "    def monte_carlo_previsao(dataset, ativo, dias_a_frente,valorz):\n",
    "        dataset = dataset.copy()\n",
    "        dataset = pd.DataFrame(dataset[ativo])\n",
    "        dataset_normalizado = dataset.copy()\n",
    "        for i in dataset:\n",
    "            dataset_normalizado[i] = dataset[i] / dataset[i][0]\n",
    "        dataset_taxa_retorno = np.log(1 + dataset_normalizado.pct_change())\n",
    "        dataset_taxa_retorno.fillna(0, inplace=True)\n",
    "        media = dataset_taxa_retorno.mean()\n",
    "        variancia = dataset_taxa_retorno.var()\n",
    "        drift = media - (0.5 * variancia)\n",
    "        desvio_padrao = dataset_taxa_retorno.std()\n",
    "        retornos_diarios = np.exp(drift.values + desvio_padrao.values * valorz)\n",
    "        previsoes = np.zeros_like(retornos_diarios)\n",
    "        previsoes[0] = dataset.iloc[-1]\n",
    "        for dia in range(1, dias_a_frente):\n",
    "            previsoes[dia] = previsoes[dia - 1] * retornos_diarios[dia] \n",
    "        return previsoes.T\n",
    "    \n",
    "    gera_previsoes = monte_carlo_previsao(new_df, 'Close', 120, valorz)\n",
    "    simu_monte_carlo = pd.DataFrame(gera_previsoes.T)\n",
    "    corte = pd.to_datetime(new_df['Date'].tail(1).values)\n",
    "    now = datetime.now()\n",
    "    df_conf =yf.download(simbolo, start=corte[0],end=now)['Close']\n",
    "    df_conf.dropna(inplace=True)\n",
    "    df_conf = df_conf.reset_index()\n",
    "    df_comparacao = pd.concat([df_conf, simu_monte_carlo.head(len(df_conf))], axis = 1)\n",
    "    df_comparacao.rename(columns={'Close':'Preço_Real', 0:'Cenario-01',1:'Cenario-02',2:'Cenario-03',\n",
    "                                  3:'Cenario-04',4:'Cenario-05'}, inplace=True)\n",
    "    df_acoes =yf.download(simbolo, start='2017-01-01')['Close']\n",
    "    df_acoes.dropna(inplace=True)\n",
    "    df_acoes = df_acoes.reset_index()\n",
    "    previsoes_final = monte_carlo_previsao(df_acoes, 'Close', 120, valorz)\n",
    "    previsoes_final = pd.DataFrame(previsoes_final.T)\n",
    "    start_gen_date = df_acoes['Date'].iloc[-1]\n",
    "    num_days = 365\n",
    "    dates = [start_gen_date + timedelta(days=x) for x in range(num_days)]\n",
    "    df_datas = pd.DataFrame({'Date': dates})\n",
    "    df_datas = df_datas[df_datas['Date'].dt.weekday < 5]\n",
    "    df_datas = df_datas.query(\"Date not in ['2023-09-07','2023-10-12','2023-11-03','2023-11-15',\\\n",
    "                            '2023-12-25','2024-01-01']\")\n",
    "    df_datas = df_datas.sort_values(by='Date')\n",
    "    df_datas = df_datas.head(len(previsoes_final))\n",
    "    df_datas['Date'] = df_datas['Date'].dt.strftime('%Y-%m-%d')\n",
    "    df_datas = df_datas.reset_index()\n",
    "    df_final = pd.concat([df_datas,previsoes_final], axis = 1)\n",
    "    df_final.rename(columns={0:'Cenario-01',1:'Cenario-02',2:'Cenario-03',\n",
    "                            3:'Cenario-04',4:'Cenario-05'}, inplace=True)\n",
    "    df_final['Date'] = pd.to_datetime(df_final['Date'])\n",
    "    df_final = df_final.sort_values(by='Date')\n",
    "    df_final.drop(columns=['index'], inplace=True)\n",
    "    colu_cenarios = ['Cenario-01','Cenario-02','Cenario-03','Cenario-04','Cenario-05']\n",
    "    dados_metricas = []\n",
    "    for x in colu_cenarios:\n",
    "        medida = np.sum(abs(df_comparacao[x] - df_comparacao['Preço_Real'])) / len(df_comparacao)\n",
    "        dados_metricas.append([medida,x])\n",
    "    df_mae = pd.DataFrame(dados_metricas).rename(columns={0:'MAE',1:'Cenario'}).round(2)       \n",
    "        \n",
    "    return df_final, df_mae"
   ]
  },
  {
   "cell_type": "code",
   "execution_count": 55,
   "id": "a15dcfff",
   "metadata": {},
   "outputs": [
    {
     "name": "stdout",
     "output_type": "stream",
     "text": [
      "[*********************100%***********************]  1 of 1 completed\n",
      "[*********************100%***********************]  1 of 1 completed\n",
      "[*********************100%***********************]  1 of 1 completed\n"
     ]
    }
   ],
   "source": [
    "df_final, df_mae = modelo_consolidado(simbolo)"
   ]
  },
  {
   "cell_type": "code",
   "execution_count": 56,
   "id": "9d1e05a2",
   "metadata": {},
   "outputs": [
    {
     "data": {
      "text/html": [
       "<div>\n",
       "<style scoped>\n",
       "    .dataframe tbody tr th:only-of-type {\n",
       "        vertical-align: middle;\n",
       "    }\n",
       "\n",
       "    .dataframe tbody tr th {\n",
       "        vertical-align: top;\n",
       "    }\n",
       "\n",
       "    .dataframe thead th {\n",
       "        text-align: right;\n",
       "    }\n",
       "</style>\n",
       "<table border=\"1\" class=\"dataframe\">\n",
       "  <thead>\n",
       "    <tr style=\"text-align: right;\">\n",
       "      <th></th>\n",
       "      <th>MAE</th>\n",
       "      <th>Cenario</th>\n",
       "    </tr>\n",
       "  </thead>\n",
       "  <tbody>\n",
       "    <tr>\n",
       "      <th>0</th>\n",
       "      <td>0.85</td>\n",
       "      <td>Cenario-01</td>\n",
       "    </tr>\n",
       "    <tr>\n",
       "      <th>1</th>\n",
       "      <td>0.98</td>\n",
       "      <td>Cenario-02</td>\n",
       "    </tr>\n",
       "    <tr>\n",
       "      <th>2</th>\n",
       "      <td>0.37</td>\n",
       "      <td>Cenario-03</td>\n",
       "    </tr>\n",
       "    <tr>\n",
       "      <th>3</th>\n",
       "      <td>0.55</td>\n",
       "      <td>Cenario-04</td>\n",
       "    </tr>\n",
       "    <tr>\n",
       "      <th>4</th>\n",
       "      <td>0.70</td>\n",
       "      <td>Cenario-05</td>\n",
       "    </tr>\n",
       "  </tbody>\n",
       "</table>\n",
       "</div>"
      ],
      "text/plain": [
       "    MAE     Cenario\n",
       "0  0.85  Cenario-01\n",
       "1  0.98  Cenario-02\n",
       "2  0.37  Cenario-03\n",
       "3  0.55  Cenario-04\n",
       "4  0.70  Cenario-05"
      ]
     },
     "execution_count": 56,
     "metadata": {},
     "output_type": "execute_result"
    }
   ],
   "source": [
    "df_mae"
   ]
  },
  {
   "cell_type": "code",
   "execution_count": 41,
   "id": "106f0835",
   "metadata": {},
   "outputs": [
    {
     "data": {
      "text/html": [
       "<div>\n",
       "<style scoped>\n",
       "    .dataframe tbody tr th:only-of-type {\n",
       "        vertical-align: middle;\n",
       "    }\n",
       "\n",
       "    .dataframe tbody tr th {\n",
       "        vertical-align: top;\n",
       "    }\n",
       "\n",
       "    .dataframe thead th {\n",
       "        text-align: right;\n",
       "    }\n",
       "</style>\n",
       "<table border=\"1\" class=\"dataframe\">\n",
       "  <thead>\n",
       "    <tr style=\"text-align: right;\">\n",
       "      <th></th>\n",
       "      <th>Date</th>\n",
       "      <th>Cenario-01</th>\n",
       "      <th>Cenario-02</th>\n",
       "      <th>Cenario-03</th>\n",
       "      <th>Cenario-04</th>\n",
       "      <th>Cenario-05</th>\n",
       "    </tr>\n",
       "  </thead>\n",
       "  <tbody>\n",
       "    <tr>\n",
       "      <th>0</th>\n",
       "      <td>2023-05-17</td>\n",
       "      <td>9.000000</td>\n",
       "      <td>9.000000</td>\n",
       "      <td>9.000000</td>\n",
       "      <td>9.000000</td>\n",
       "      <td>9.000000</td>\n",
       "    </tr>\n",
       "    <tr>\n",
       "      <th>1</th>\n",
       "      <td>2023-05-18</td>\n",
       "      <td>8.563706</td>\n",
       "      <td>9.205688</td>\n",
       "      <td>9.057968</td>\n",
       "      <td>8.985563</td>\n",
       "      <td>8.223374</td>\n",
       "    </tr>\n",
       "    <tr>\n",
       "      <th>2</th>\n",
       "      <td>2023-05-19</td>\n",
       "      <td>9.391114</td>\n",
       "      <td>9.707416</td>\n",
       "      <td>8.961778</td>\n",
       "      <td>9.310566</td>\n",
       "      <td>8.461528</td>\n",
       "    </tr>\n",
       "    <tr>\n",
       "      <th>3</th>\n",
       "      <td>2023-05-22</td>\n",
       "      <td>9.855943</td>\n",
       "      <td>10.312025</td>\n",
       "      <td>8.615513</td>\n",
       "      <td>8.711677</td>\n",
       "      <td>7.958106</td>\n",
       "    </tr>\n",
       "    <tr>\n",
       "      <th>4</th>\n",
       "      <td>2023-05-23</td>\n",
       "      <td>10.380010</td>\n",
       "      <td>10.715041</td>\n",
       "      <td>8.436334</td>\n",
       "      <td>9.319977</td>\n",
       "      <td>7.344936</td>\n",
       "    </tr>\n",
       "    <tr>\n",
       "      <th>...</th>\n",
       "      <td>...</td>\n",
       "      <td>...</td>\n",
       "      <td>...</td>\n",
       "      <td>...</td>\n",
       "      <td>...</td>\n",
       "      <td>...</td>\n",
       "    </tr>\n",
       "    <tr>\n",
       "      <th>115</th>\n",
       "      <td>2023-10-27</td>\n",
       "      <td>11.214202</td>\n",
       "      <td>5.983799</td>\n",
       "      <td>6.805406</td>\n",
       "      <td>10.803438</td>\n",
       "      <td>4.078614</td>\n",
       "    </tr>\n",
       "    <tr>\n",
       "      <th>116</th>\n",
       "      <td>2023-10-30</td>\n",
       "      <td>10.896126</td>\n",
       "      <td>6.017645</td>\n",
       "      <td>6.474094</td>\n",
       "      <td>11.772154</td>\n",
       "      <td>3.831297</td>\n",
       "    </tr>\n",
       "    <tr>\n",
       "      <th>117</th>\n",
       "      <td>2023-10-31</td>\n",
       "      <td>10.491523</td>\n",
       "      <td>5.613937</td>\n",
       "      <td>6.283355</td>\n",
       "      <td>11.261352</td>\n",
       "      <td>4.090657</td>\n",
       "    </tr>\n",
       "    <tr>\n",
       "      <th>118</th>\n",
       "      <td>2023-11-01</td>\n",
       "      <td>11.225493</td>\n",
       "      <td>5.702163</td>\n",
       "      <td>6.195022</td>\n",
       "      <td>11.525450</td>\n",
       "      <td>4.058960</td>\n",
       "    </tr>\n",
       "    <tr>\n",
       "      <th>119</th>\n",
       "      <td>2023-11-02</td>\n",
       "      <td>10.893929</td>\n",
       "      <td>6.323638</td>\n",
       "      <td>6.159554</td>\n",
       "      <td>10.363402</td>\n",
       "      <td>4.169068</td>\n",
       "    </tr>\n",
       "  </tbody>\n",
       "</table>\n",
       "<p>120 rows × 6 columns</p>\n",
       "</div>"
      ],
      "text/plain": [
       "          Date  Cenario-01  Cenario-02  Cenario-03  Cenario-04  Cenario-05\n",
       "0   2023-05-17    9.000000    9.000000    9.000000    9.000000    9.000000\n",
       "1   2023-05-18    8.563706    9.205688    9.057968    8.985563    8.223374\n",
       "2   2023-05-19    9.391114    9.707416    8.961778    9.310566    8.461528\n",
       "3   2023-05-22    9.855943   10.312025    8.615513    8.711677    7.958106\n",
       "4   2023-05-23   10.380010   10.715041    8.436334    9.319977    7.344936\n",
       "..         ...         ...         ...         ...         ...         ...\n",
       "115 2023-10-27   11.214202    5.983799    6.805406   10.803438    4.078614\n",
       "116 2023-10-30   10.896126    6.017645    6.474094   11.772154    3.831297\n",
       "117 2023-10-31   10.491523    5.613937    6.283355   11.261352    4.090657\n",
       "118 2023-11-01   11.225493    5.702163    6.195022   11.525450    4.058960\n",
       "119 2023-11-02   10.893929    6.323638    6.159554   10.363402    4.169068\n",
       "\n",
       "[120 rows x 6 columns]"
      ]
     },
     "execution_count": 41,
     "metadata": {},
     "output_type": "execute_result"
    }
   ],
   "source": [
    "df_final"
   ]
  },
  {
   "cell_type": "code",
   "execution_count": null,
   "id": "8ebeafee",
   "metadata": {},
   "outputs": [],
   "source": [
    "mae1"
   ]
  },
  {
   "cell_type": "code",
   "execution_count": null,
   "id": "3b535bac",
   "metadata": {},
   "outputs": [],
   "source": [
    "mae2"
   ]
  },
  {
   "cell_type": "code",
   "execution_count": 79,
   "id": "6fbdc6dd",
   "metadata": {},
   "outputs": [],
   "source": [
    "\n",
    "now = datetime.now()\n",
    "delta = timedelta(days=45)\n",
    "result = str(now - delta)\n",
    "result = result[0:10]"
   ]
  },
  {
   "cell_type": "code",
   "execution_count": 67,
   "id": "29232a4c",
   "metadata": {},
   "outputs": [
    {
     "name": "stdout",
     "output_type": "stream",
     "text": [
      "[*********************100%***********************]  1 of 1 completed\n"
     ]
    }
   ],
   "source": [
    "new_df = yf.download(simbolo, start='2015-01-01',end=datetime.now() - timedelta (45))['Close']\n",
    "new_df.dropna(inplace=True)\n",
    "new_df = new_df.reset_index()"
   ]
  },
  {
   "cell_type": "code",
   "execution_count": null,
   "id": "eccf5498",
   "metadata": {},
   "outputs": [],
   "source": []
  },
  {
   "cell_type": "code",
   "execution_count": 73,
   "id": "98fb44cc",
   "metadata": {},
   "outputs": [
    {
     "data": {
      "text/plain": [
       "Timestamp('2023-04-03 12:32:53.524556')"
      ]
     },
     "execution_count": 73,
     "metadata": {},
     "output_type": "execute_result"
    }
   ],
   "source": [
    "pd.to_datetime(datetime.now() - timedelta (45),format='%Y-%m-%d')"
   ]
  },
  {
   "cell_type": "code",
   "execution_count": null,
   "id": "0450ceb9",
   "metadata": {},
   "outputs": [],
   "source": []
  },
  {
   "cell_type": "code",
   "execution_count": 68,
   "id": "6c846f12",
   "metadata": {},
   "outputs": [
    {
     "data": {
      "text/html": [
       "<div>\n",
       "<style scoped>\n",
       "    .dataframe tbody tr th:only-of-type {\n",
       "        vertical-align: middle;\n",
       "    }\n",
       "\n",
       "    .dataframe tbody tr th {\n",
       "        vertical-align: top;\n",
       "    }\n",
       "\n",
       "    .dataframe thead th {\n",
       "        text-align: right;\n",
       "    }\n",
       "</style>\n",
       "<table border=\"1\" class=\"dataframe\">\n",
       "  <thead>\n",
       "    <tr style=\"text-align: right;\">\n",
       "      <th></th>\n",
       "      <th>Date</th>\n",
       "      <th>Close</th>\n",
       "    </tr>\n",
       "  </thead>\n",
       "  <tbody>\n",
       "    <tr>\n",
       "      <th>2051</th>\n",
       "      <td>2023-04-03</td>\n",
       "      <td>7.88</td>\n",
       "    </tr>\n",
       "  </tbody>\n",
       "</table>\n",
       "</div>"
      ],
      "text/plain": [
       "           Date  Close\n",
       "2051 2023-04-03   7.88"
      ]
     },
     "execution_count": 68,
     "metadata": {},
     "output_type": "execute_result"
    }
   ],
   "source": [
    "new_df.tail(1)"
   ]
  },
  {
   "cell_type": "code",
   "execution_count": 80,
   "id": "8bc12b86",
   "metadata": {},
   "outputs": [
    {
     "ename": "SyntaxError",
     "evalue": "invalid syntax (<unknown>, line 1)",
     "output_type": "error",
     "traceback": [
      "Traceback \u001b[1;36m(most recent call last)\u001b[0m:\n",
      "  File \u001b[0;32m\"C:\\Users\\DELL\\anaconda3\\lib\\site-packages\\IPython\\core\\interactiveshell.py\"\u001b[0m, line \u001b[0;32m3457\u001b[0m, in \u001b[0;35mrun_code\u001b[0m\n    exec(code_obj, self.user_global_ns, self.user_ns)\n",
      "  File \u001b[0;32m\"C:\\Users\\DELL\\AppData\\Local\\Temp\\ipykernel_5740\\3184880841.py\"\u001b[0m, line \u001b[0;32m1\u001b[0m, in \u001b[0;35m<module>\u001b[0m\n    new_df.query(f\"Date <={result}\")\n",
      "  File \u001b[0;32m\"C:\\Users\\DELL\\anaconda3\\lib\\site-packages\\pandas\\util\\_decorators.py\"\u001b[0m, line \u001b[0;32m331\u001b[0m, in \u001b[0;35mwrapper\u001b[0m\n    return func(*args, **kwargs)\n",
      "  File \u001b[0;32m\"C:\\Users\\DELL\\anaconda3\\lib\\site-packages\\pandas\\core\\frame.py\"\u001b[0m, line \u001b[0;32m4471\u001b[0m, in \u001b[0;35mquery\u001b[0m\n    res = self.eval(expr, **kwargs)\n",
      "  File \u001b[0;32m\"C:\\Users\\DELL\\anaconda3\\lib\\site-packages\\pandas\\util\\_decorators.py\"\u001b[0m, line \u001b[0;32m331\u001b[0m, in \u001b[0;35mwrapper\u001b[0m\n    return func(*args, **kwargs)\n",
      "  File \u001b[0;32m\"C:\\Users\\DELL\\anaconda3\\lib\\site-packages\\pandas\\core\\frame.py\"\u001b[0m, line \u001b[0;32m4609\u001b[0m, in \u001b[0;35meval\u001b[0m\n    return _eval(expr, inplace=inplace, **kwargs)\n",
      "  File \u001b[0;32m\"C:\\Users\\DELL\\anaconda3\\lib\\site-packages\\pandas\\core\\computation\\eval.py\"\u001b[0m, line \u001b[0;32m353\u001b[0m, in \u001b[0;35meval\u001b[0m\n    parsed_expr = Expr(expr, engine=engine, parser=parser, env=env)\n",
      "  File \u001b[0;32m\"C:\\Users\\DELL\\anaconda3\\lib\\site-packages\\pandas\\core\\computation\\expr.py\"\u001b[0m, line \u001b[0;32m813\u001b[0m, in \u001b[0;35m__init__\u001b[0m\n    self.terms = self.parse()\n",
      "  File \u001b[0;32m\"C:\\Users\\DELL\\anaconda3\\lib\\site-packages\\pandas\\core\\computation\\expr.py\"\u001b[0m, line \u001b[0;32m832\u001b[0m, in \u001b[0;35mparse\u001b[0m\n    return self._visitor.visit(self.expr)\n",
      "  File \u001b[0;32m\"C:\\Users\\DELL\\anaconda3\\lib\\site-packages\\pandas\\core\\computation\\expr.py\"\u001b[0m, line \u001b[0;32m411\u001b[0m, in \u001b[0;35mvisit\u001b[0m\n    raise e\n",
      "  File \u001b[0;32m\"C:\\Users\\DELL\\anaconda3\\lib\\site-packages\\pandas\\core\\computation\\expr.py\"\u001b[0m, line \u001b[0;32m407\u001b[0m, in \u001b[0;35mvisit\u001b[0m\n    node = ast.fix_missing_locations(ast.parse(clean))\n",
      "\u001b[1;36m  File \u001b[1;32m\"C:\\Users\\DELL\\anaconda3\\lib\\ast.py\"\u001b[1;36m, line \u001b[1;32m50\u001b[1;36m, in \u001b[1;35mparse\u001b[1;36m\u001b[0m\n\u001b[1;33m    return compile(source, filename, mode, flags,\u001b[0m\n",
      "\u001b[1;36m  File \u001b[1;32m\"<unknown>\"\u001b[1;36m, line \u001b[1;32m1\u001b[0m\n\u001b[1;33m    Date <=2023 -0 4 -0 3\u001b[0m\n\u001b[1;37m                   ^\u001b[0m\n\u001b[1;31mSyntaxError\u001b[0m\u001b[1;31m:\u001b[0m invalid syntax\n"
     ]
    }
   ],
   "source": [
    "new_df.query(f\"Date <= {result}\")"
   ]
  },
  {
   "cell_type": "code",
   "execution_count": null,
   "id": "b8672b22",
   "metadata": {},
   "outputs": [],
   "source": []
  }
 ],
 "metadata": {
  "kernelspec": {
   "display_name": "Python 3 (ipykernel)",
   "language": "python",
   "name": "python3"
  },
  "language_info": {
   "codemirror_mode": {
    "name": "ipython",
    "version": 3
   },
   "file_extension": ".py",
   "mimetype": "text/x-python",
   "name": "python",
   "nbconvert_exporter": "python",
   "pygments_lexer": "ipython3",
   "version": "3.9.13"
  }
 },
 "nbformat": 4,
 "nbformat_minor": 5
}
